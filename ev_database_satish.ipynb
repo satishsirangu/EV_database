{
 "cells": [
  {
   "cell_type": "code",
   "execution_count": 55,
   "metadata": {
    "colab": {
     "base_uri": "https://localhost:8080/"
    },
    "id": "jEBAVGssjUuc",
    "outputId": "e8f1c855-a050-4eca-fbe2-e6338d89dd94"
   },
   "outputs": [
    {
     "name": "stdout",
     "output_type": "stream",
     "text": [
      "Requirement already satisfied: html-table-parser-python3 in c:\\users\\satis\\anaconda3\\lib\\site-packages (0.3.1)\n",
      "Requirement already satisfied: xlsxwriter in c:\\users\\satis\\anaconda3\\lib\\site-packages (3.2.0)\n"
     ]
    }
   ],
   "source": [
    "!pip install html-table-parser-python3\n",
    "!pip install xlsxwriter"
   ]
  },
  {
   "cell_type": "code",
   "execution_count": 56,
   "metadata": {
    "id": "WBy2EiKAAeQ9"
   },
   "outputs": [],
   "source": [
    "import time\n",
    "#time.sleep(5)"
   ]
  },
  {
   "cell_type": "code",
   "execution_count": 57,
   "metadata": {
    "colab": {
     "base_uri": "https://localhost:8080/"
    },
    "id": "iQSRUQGl6xx5",
    "outputId": "6ff9a42b-aa60-4201-90d2-2f9e390cf185"
   },
   "outputs": [],
   "source": [
    "#mounting drive\n",
    "#from google.colab import drive\n",
    "#drive.mount('/content/drive')\n",
    "\n",
    "#import os\n",
    "#os.chdir('/content/drive/MyDrive/codes')\n",
    "\n",
    "\n",
    "# from google.colab import files\n",
    "# uploaded = files.upload()"
   ]
  },
  {
   "cell_type": "code",
   "execution_count": 58,
   "metadata": {
    "id": "3hY-m0m22Hb3"
   },
   "outputs": [
    {
     "name": "stdout",
     "output_type": "stream",
     "text": [
      "<bound method NDFrame.head of                                                      0\n",
      "0    https://ev-database.org/car/2260/Opel-Zafira-e...\n",
      "1    https://ev-database.org/car/2261/Opel-Zafira-e...\n",
      "2    https://ev-database.org/car/2273/Audi-S6-Avant...\n",
      "3    https://ev-database.org/car/2272/Audi-A6-Avant...\n",
      "4    https://ev-database.org/car/2271/Audi-S6-Sport...\n",
      "..                                                 ...\n",
      "403  https://ev-database.org/car/2262/Opel-Zafira-e...\n",
      "404  https://ev-database.org/car/2257/Peugeot-e-Tra...\n",
      "405  https://ev-database.org/car/2252/Citroen-e-Spa...\n",
      "406  https://ev-database.org/car/2253/Citroen-e-Spa...\n",
      "407  https://ev-database.org/car/2256/Peugeot-e-Tra...\n",
      "\n",
      "[408 rows x 1 columns]>\n"
     ]
    }
   ],
   "source": [
    "####importing csv to pandas and finally to list###########\n",
    "# importing module\n",
    "import pandas as pd\n",
    "\n",
    "# reading CSV file\n",
    "#autourl =pd.read_csv(\"/content/drive/MyDrive/codes/ev_benchmark_url.csv\",header=None)\n",
    "autourl =pd.read_excel(\"url.xlsx\",header=None)\n",
    "print(autourl.head)\n",
    "ev_list=autourl[0].tolist()"
   ]
  },
  {
   "cell_type": "code",
   "execution_count": 59,
   "metadata": {
    "id": "PGLyrh_SmiMQ"
   },
   "outputs": [],
   "source": [
    "#######create excel sheet##################\n",
    "# import xlsxwriter module\n",
    "import xlsxwriter\n",
    "workbook = xlsxwriter.Workbook('ev_database_1.xlsx')\n",
    "workbook.close()"
   ]
  },
  {
   "cell_type": "code",
   "execution_count": 83,
   "metadata": {
    "id": "KcaKM6Rcjm2K"
   },
   "outputs": [
    {
     "name": "stdout",
     "output_type": "stream",
     "text": [
      "43\n",
      "                        0\n",
      "0  Volkswagen_ID_Buzz_Pro\n",
      "[['United Kingdom', '£59,035'],\n",
      " ['The Netherlands', '€56,990'],\n",
      " ['Germany', '€64,581']]\n",
      "[['United Kingdom', 'Since September 2022'],\n",
      " ['The Netherlands', 'Since September 2022'],\n",
      " ['Germany', 'Sep 2022 - Jun 2024']]\n",
      "[['City - Cold Weather', '350 km'],\n",
      " ['Highway - Cold Weather', '245 km'],\n",
      " ['Combined - Cold Weather', '295 km']]\n",
      "[['City - Mild Weather', '500 km'],\n",
      " ['Highway - Mild Weather', '305 km'],\n",
      " ['Combined - Mild Weather', '385 km']]\n",
      "[['Acceleration 0 - 100 km/h', '10.2 sec'],\n",
      " ['Top Speed', '145 km/h'],\n",
      " ['Electric Range', '345 km']]\n",
      "[['Total Power', '150 kW (204 PS)'],\n",
      " ['Total Torque', '310 Nm'],\n",
      " ['Drive', 'Rear']]\n",
      "[['Nominal Capacity', '82.0 kWh'],\n",
      " ['Battery Type', 'Lithium-ion'],\n",
      " ['Number of Cells', '288'],\n",
      " ['Architecture', '400 V'],\n",
      " ['Warranty Period', '8 years'],\n",
      " ['Warranty Mileage', '160,000 km']]\n",
      "[['Useable Capacity', '77.0 kWh'],\n",
      " ['Cathode Material', 'NCM'],\n",
      " ['Pack Configuration', '96s3p'],\n",
      " ['Nominal Voltage', '352 V'],\n",
      " ['Form Factor', 'No Data'],\n",
      " ['Name / Reference', 'No Data']]\n",
      "[['Charge Port', 'Type 2'],\n",
      " ['Port Location', 'Right Side - Rear'],\n",
      " ['Charge Power', '11 kW AC']]\n",
      "[['Charge Time (0->345 km)', '8h15m'], ['Charge Speed', '42 km/h']]\n",
      "[['Charge Port', 'CCS'],\n",
      " ['Port Location', 'Right Side - Rear'],\n",
      " ['Charge Power (max)', '175 kW DC'],\n",
      " ['Charge Power (10-80%)', '115 kW DC']]\n",
      "[['Charge Time (34->276 km)', '30 min'],\n",
      " ['Charge Speed', '480 km/h'],\n",
      " ['Autocharge Supported', 'No']]\n",
      "[['Plug & Charge Supported', 'Yes']]\n",
      "[['Supported Protocol', 'ISO 15118-2']]\n",
      "[['V2L Supported', 'No'], ['Max. Output Power', '-']]\n",
      "[['Exterior Outlet(s)', '-'], ['Interior Outlet(s)', '-']]\n",
      "[['V2H via AC Supported', 'No'], ['Max. Output Power', '-']]\n",
      "[['V2H via DC Supported', 'Announced'], ['Max. Output Power', '10.0 kW DC']]\n",
      "[['V2G via AC Supported', 'No'], ['Max. Output Power', '-']]\n",
      "[['V2G via DC Supported', 'Announced'], ['Max. Output Power', '10.0 kW DC']]\n",
      "[['Range', '345 km'], ['Vehicle Consumption', '223 Wh/km']]\n",
      "[['CO2 Emissions', '0 g/km'], ['Vehicle Fuel Equivalent', '2.5 l/100km']]\n",
      "[['Range', '423 km'],\n",
      " ['Rated Consumption', '206 Wh/km'],\n",
      " ['Vehicle Consumption', '182 Wh/km']]\n",
      "[['CO2 Emissions', '0 g/km'],\n",
      " ['Rated Fuel Equivalent', '2.3 l/100km'],\n",
      " ['Vehicle Fuel Equivalent', '2.0 l/100km']]\n",
      "[['Range', '404 km'],\n",
      " ['Rated Consumption', '217 Wh/km'],\n",
      " ['Vehicle Consumption', '191 Wh/km']]\n",
      "[['CO2 Emissions', '0 g/km'],\n",
      " ['Rated Fuel Equivalent', '2.4 l/100km'],\n",
      " ['Vehicle Fuel Equivalent', '2.1 l/100km']]\n",
      "[['City - Cold Weather', '220 Wh/km'],\n",
      " ['Highway - Cold Weather', '314 Wh/km'],\n",
      " ['Combined - Cold Weather', '261 Wh/km']]\n",
      "[['City - Mild Weather', '154 Wh/km'],\n",
      " ['Highway - Mild Weather', '252 Wh/km'],\n",
      " ['Combined - Mild Weather', '200 Wh/km']]\n",
      "[['Safety Rating', ''], ['Adult Occupant', '92%'], ['Child Occupant', '87%']]\n",
      "[['Rating Year', '2022'],\n",
      " ['Vulnerable Road Users', '60%'],\n",
      " ['Safety Assist', '90%']]\n",
      "[['Length', '4712 mm'],\n",
      " ['Width', '1985 mm'],\n",
      " ['Width with mirrors', '2212 mm'],\n",
      " ['Height', '1927 mm'],\n",
      " ['Wheelbase', '2989 mm'],\n",
      " ['Weight Unladen (EU)', '2459 kg'],\n",
      " ['Gross Vehicle Weight (GVWR)', '3000 kg'],\n",
      " ['Max. Payload', '616 kg']]\n",
      "[['Cargo Volume', '1121 L'],\n",
      " ['Cargo Volume Max', '2123 L'],\n",
      " ['Cargo Volume Frunk', '0 L'],\n",
      " ['Roof Load', '100 kg'],\n",
      " ['Tow Hitch Possible', 'Yes'],\n",
      " ['Towing Weight Unbraked', '750 kg'],\n",
      " ['Towing Weight Braked', '1000 kg'],\n",
      " ['Vertical Load Max', '50 kg']]\n",
      "[['Weight Measured', '2600 kg'], ['Weight Distribution (F/R)', '49% / 51%']]\n",
      "[['Weight Front Axle', '1280 kg'], ['Weight Rear Axle', '1320 kg']]\n",
      "[['Seats', '5 people'],\n",
      " ['Isofix', 'Yes, 3 seats'],\n",
      " ['Turning Circle', '11.1 m'],\n",
      " ['Platform', 'VW MEB'],\n",
      " ['EV Dedicated Platform', 'Yes']]\n",
      "[['Car Body', 'Small Passenger Van'],\n",
      " ['Segment', 'N - Commercial'],\n",
      " ['Roof Rails', 'No'],\n",
      " ['Heat pump (HP)', 'No Data'],\n",
      " ['HP Standard Equipment', 'No Data']]\n",
      "[['Type 2 (Mennekes - IEC 62196)'], ['']]\n",
      "[['Charging Point', 'Max. Power', 'Power', 'Time', 'Rate'],\n",
      " ['Wall Plug (2.3 kW)', '230V / 1x10A', '2.3 kW', '39h30m', '9 km/h'],\n",
      " ['1-phase 16A (3.7 kW)', '230V / 1x16A', '3.7 kW', '24h30m', '14 km/h'],\n",
      " ['1-phase 32A (7.4 kW)', '230V / 1x32A', '7.4 kW', '12h15m', '28 km/h'],\n",
      " ['3-phase 16A (11 kW)', '400V / 3x16A', '11 kW', '8h15m', '42 km/h'],\n",
      " ['3-phase 32A (22 kW)', '400V / 3x16A', '11 kW', '8h15m', '42 km/h']]\n",
      "[['Combined Charging System (CCS Combo 2)'], ['']]\n",
      "[['Charging Point', 'Max. Power', 'Avg. Power', 'Time', 'Rate'],\n",
      " ['CCS (50 kW DC)', '50 kW', '50 kW', '68 min', '210 km/h'],\n",
      " ['CCS (100 kW DC)', '100 kW', '85 kW', '40 min', '360 km/h'],\n",
      " ['CCS (150 kW DC)', '150 kW', '105 kW', '32 min', '450 km/h'],\n",
      " ['CCS (175 kW DC)', '175 kW', '115 kW', '30 min', '480 km/h'],\n",
      " ['CCS (350 kW DC)', '175 kW', '115 kW', '30 min', '480 km/h']]\n",
      "[['This vehicle does not support Autocharge'],\n",
      " ['This vehicle supports Plug & Charge']]\n",
      "[['Volkswagen Claimed Specifications']]\n",
      "40\n",
      "                       0\n",
      "0  Mercedes_EQV_300_Long\n",
      "[['United Kingdom', '£87,995'],\n",
      " ['The Netherlands', '€83,617'],\n",
      " ['Germany', '€71,626']]\n",
      "[['United Kingdom', 'Nov 2020 - Feb 2024'],\n",
      " ['The Netherlands', 'Sep 2020 - Feb 2024'],\n",
      " ['Germany', 'Oct 2020 - Feb 2024']]\n",
      "[['City - Cold Weather', '330 km'],\n",
      " ['Highway - Cold Weather', '220 km'],\n",
      " ['Combined - Cold Weather', '270 km']]\n",
      "[['City - Mild Weather', '450 km'],\n",
      " ['Highway - Mild Weather', '270 km'],\n",
      " ['Combined - Mild Weather', '345 km']]\n",
      "[['Acceleration 0 - 100 km/h', '12.1 sec'],\n",
      " ['Top Speed', '160 km/h'],\n",
      " ['Electric Range', '310 km']]\n",
      "[['Total Power', '150 kW (204 PS)'],\n",
      " ['Total Torque', '362 Nm'],\n",
      " ['Drive', 'Front']]\n",
      "[['Nominal Capacity', '100.0 kWh'],\n",
      " ['Battery Type', 'Lithium-ion'],\n",
      " ['Number of Cells', '288'],\n",
      " ['Architecture', '400 V'],\n",
      " ['Warranty Period', 'No Data'],\n",
      " ['Warranty Mileage', 'No Data']]\n",
      "[['Useable Capacity', '90.0 kWh'],\n",
      " ['Cathode Material', 'No Data'],\n",
      " ['Pack Configuration', '96s3p'],\n",
      " ['Nominal Voltage', '352 V'],\n",
      " ['Form Factor', 'No Data'],\n",
      " ['Name / Reference', 'No Data']]\n",
      "[['Charge Port', 'Type 2'],\n",
      " ['Port Location', 'Left Side - Front'],\n",
      " ['Charge Power', '11 kW AC']]\n",
      "[['Charge Time (0->310 km)', '9h45m'], ['Charge Speed', '32 km/h']]\n",
      "[['Charge Port', 'CCS'],\n",
      " ['Port Location', 'Left Side - Front'],\n",
      " ['Charge Power (max)', '110 kW DC'],\n",
      " ['Charge Power (10-80%)', '96 kW DC']]\n",
      "[['Charge Time (31->248 km)', '41 min'],\n",
      " ['Charge Speed', '310 km/h'],\n",
      " ['Autocharge Supported', 'Yes']]\n",
      "[['Plug & Charge Supported', 'No']]\n",
      "[['Supported Protocol', '-']]\n",
      "[['V2L Supported', 'No'], ['Max. Output Power', '-']]\n",
      "[['Exterior Outlet(s)', '-'], ['Interior Outlet(s)', '-']]\n",
      "[['V2H via AC Supported', 'No'], ['Max. Output Power', '-']]\n",
      "[['V2H via DC Supported', 'No'], ['Max. Output Power', '-']]\n",
      "[['V2G via AC Supported', 'No'], ['Max. Output Power', '-']]\n",
      "[['V2G via DC Supported', 'No'], ['Max. Output Power', '-']]\n",
      "[['Range', '310 km'], ['Vehicle Consumption', '290 Wh/km']]\n",
      "[['CO2 Emissions', '0 g/km'], ['Vehicle Fuel Equivalent', '3.3 l/100km']]\n",
      "[['Range', '418 km'],\n",
      " ['Rated Consumption', '263 Wh/km'],\n",
      " ['Vehicle Consumption', '215 Wh/km']]\n",
      "[['CO2 Emissions', '0 g/km'],\n",
      " ['Rated Fuel Equivalent', '3.0 l/100km'],\n",
      " ['Vehicle Fuel Equivalent', '2.4 l/100km']]\n",
      "[['Range', '363 km'],\n",
      " ['Rated Consumption', '276 Wh/km'],\n",
      " ['Vehicle Consumption', '248 Wh/km']]\n",
      "[['CO2 Emissions', '0 g/km'],\n",
      " ['Rated Fuel Equivalent', '3.1 l/100km'],\n",
      " ['Vehicle Fuel Equivalent', '2.8 l/100km']]\n",
      "[['City - Cold Weather', '273 Wh/km'],\n",
      " ['Highway - Cold Weather', '409 Wh/km'],\n",
      " ['Combined - Cold Weather', '333 Wh/km']]\n",
      "[['City - Mild Weather', '200 Wh/km'],\n",
      " ['Highway - Mild Weather', '333 Wh/km'],\n",
      " ['Combined - Mild Weather', '261 Wh/km']]\n",
      "[['Length', '5140 mm'],\n",
      " ['Width', '1928 mm'],\n",
      " ['Width with mirrors', '2244 mm'],\n",
      " ['Height', '1901 mm'],\n",
      " ['Wheelbase', '3200 mm'],\n",
      " ['Weight Unladen (EU)', '2635 kg'],\n",
      " ['Gross Vehicle Weight (GVWR)', '3500 kg'],\n",
      " ['Max. Payload', '940 kg']]\n",
      "[['Cargo Volume', '1030 L'],\n",
      " ['Cargo Volume Max', '4630 L'],\n",
      " ['Cargo Volume Frunk', '0 L'],\n",
      " ['Roof Load', 'No Data'],\n",
      " ['Tow Hitch Possible', 'No'],\n",
      " ['Towing Weight Unbraked', '0 kg'],\n",
      " ['Towing Weight Braked', '0 kg'],\n",
      " ['Vertical Load Max', '0 kg']]\n",
      "[['Weight Measured', '2960 kg'], ['Weight Distribution (F/R)', '53% / 47%']]\n",
      "[['Weight Front Axle', '1580 kg'], ['Weight Rear Axle', '1380 kg']]\n",
      "[['Seats', '7 people'],\n",
      " ['Isofix', 'No Data'],\n",
      " ['Turning Circle', '11.8 m'],\n",
      " ['Platform', 'No Data'],\n",
      " ['EV Dedicated Platform', 'No Data']]\n",
      "[['Car Body', 'Small Passenger Van'],\n",
      " ['Segment', 'N - Commercial'],\n",
      " ['Roof Rails', 'Yes'],\n",
      " ['Heat pump (HP)', 'Varies by country'],\n",
      " ['HP Standard Equipment', 'Varies by country']]\n",
      "[['Type 2 (Mennekes - IEC 62196)'], ['']]\n",
      "[['Charging Point', 'Max. Power', 'Power', 'Time', 'Rate'],\n",
      " ['Wall Plug (2.3 kW)', '230V / 1x10A', '2.3 kW', '46h15m', '7 km/h'],\n",
      " ['1-phase 16A (3.7 kW)', '230V / 1x16A', '3.7 kW', '28h45m', '11 km/h'],\n",
      " ['1-phase 32A (7.4 kW)', '230V / 1x32A', '7.4 kW', '14h30m', '21 km/h'],\n",
      " ['3-phase 16A (11 kW)', '400V / 3x16A', '11 kW', '9h45m', '32 km/h'],\n",
      " ['3-phase 32A (22 kW)', '400V / 3x16A', '11 kW', '9h45m', '32 km/h']]\n",
      "[['Combined Charging System (CCS Combo 2)'], ['']]\n",
      "[['Charging Point', 'Max. Power', 'Avg. Power', 'Time', 'Rate'],\n",
      " ['CCS (50 kW DC)', '50 kW', '50 kW', '80 min', '160 km/h'],\n",
      " ['CCS (150 kW DC)', '110 kW', '96 kW', '41 min', '310 km/h']]\n",
      "[['Charge Curve'], [''], ['Data made available by Fastned']]\n"
     ]
    }
   ],
   "source": [
    "# Library for opening url and creating\n",
    "# requests\n",
    "import urllib.request\n",
    "\n",
    "# pretty-print python data structures\n",
    "from pprint import pprint\n",
    "\n",
    "# for parsing all the tables present\n",
    "# on the website\n",
    "from html_table_parser.parser import HTMLTableParser\n",
    "\n",
    "# for converting the parsed data in a\n",
    "# pandas dataframe\n",
    "import pandas as pd\n",
    "\n",
    "\n",
    "# Opens a website and read its\n",
    "# binary contents (HTTP Response Body)\n",
    "def url_get_contents(url):\n",
    "\n",
    "\t# Opens a website and read its\n",
    "\t# binary contents (HTTP Response Body)\n",
    "\n",
    "\t#making request to the website\n",
    "\treq = urllib.request.Request(url=url)\n",
    "\tf = urllib.request.urlopen(req)\n",
    "\n",
    "\t#reading contents of the website\n",
    "\treturn f.read()\n",
    "#########outide loop variable#################\n",
    "data_bin=[]\n",
    "out_bin=[]\n",
    "\n",
    "###########################\n",
    "ev_list=['https://ev-database.org/car/1651/Volkswagen-ID-Buzz-Pro','https://ev-database.org/car/1240/Mercedes-EQV-300-Long']\n",
    "#ev_list=['https://ev-database.org/car/1240/Mercedes-EQV-300-Long']\n",
    "\n",
    "for j in range(0,len(ev_list)):\n",
    "  # defining the html contents of a URL.\n",
    "  url=ev_list[j]\n",
    "  xhtml = url_get_contents(url).decode('utf-8')\n",
    "\n",
    "  # Defining the HTMLTableParser object\n",
    "  p = HTMLTableParser()\n",
    "\n",
    "  # feeding the html contents in the\n",
    "  # HTMLTableParser object\n",
    "  p.feed(xhtml)\n",
    "\n",
    "  # Now finally obtaining the data of\n",
    "  # the table required\n",
    "  pprint(len(p.tables))\n",
    "  #print((p.tables[0]))\n",
    "  ########################################\n",
    "  ################################################\n",
    "  out=url.split('/')[-1]\n",
    "  ###removing special character with underscore######\n",
    "  out= out.translate ({ord(c): \"_\" for c in \"!@#$%^&*()[]{};:,./<>?\\|`~-=_+\"})\n",
    "  out_bin.append(out)\n",
    "  ###################################################\n",
    "  ##############################################\n",
    "  data=pd.DataFrame({'0': [out]})\n",
    "  print(data)\n",
    "  #data=data.append(p.tables[0])\n",
    "  #data=data.concat(pd.DataFrame(p.tables[0]))\n",
    "  #print(data)\n",
    "  #data.reset_index(drop=True)\n",
    "  for i in range(0,len(p.tables)-1):\n",
    "    # print(i)\n",
    "    pprint(p.tables[i])\n",
    "    #data=pd.DataFrame(p.tables[i])\n",
    "    #data=data.append(pd.DataFrame(p.tables[i+1]))\n",
    "  #data.reset_index(drop=True)\n",
    "\n",
    "  ############reducing name to 30 characters###########\n",
    "  # if(len(out)>29):\n",
    "  #   out=out[0:29]\n",
    "  #####################################################\n",
    "  data_bin.append(data)\n",
    "  \n",
    "  ###################################################\n",
    "  time.sleep(15)\n"
   ]
  },
  {
   "cell_type": "code",
   "execution_count": 84,
   "metadata": {},
   "outputs": [
    {
     "name": "stdout",
     "output_type": "stream",
     "text": [
      "                       0\n",
      "0  Mercedes_EQV_300_Long\n",
      "[                        0\n",
      "0  Volkswagen_ID_Buzz_Pro,                        0\n",
      "0  Mercedes_EQV_300_Long]\n"
     ]
    }
   ],
   "source": [
    "print(data)\n",
    "print(data_bin)"
   ]
  },
  {
   "cell_type": "code",
   "execution_count": null,
   "metadata": {
    "id": "3E0s4RisV3mY"
   },
   "outputs": [],
   "source": [
    "# ############exporting into excel with units####################\n",
    "# startrow = 0\n",
    "# import os\n",
    "# path = r\"/content/drive/MyDrive/codes/ev_database.xlsx\"\n",
    "# writer = pd.ExcelWriter(path, engine = 'xlsxwriter')\n",
    "# for k in range(0,len(data_bin)):\n",
    "#   data_bin[k].to_excel(writer, sheet_name =str(k),startrow=startrow,header=False,index=False)\n",
    "# writer.save()"
   ]
  },
  {
   "cell_type": "markdown",
   "metadata": {
    "id": "t8esfFIQcQ6r"
   },
   "source": [
    "**Units Remove**"
   ]
  },
  {
   "cell_type": "code",
   "execution_count": 66,
   "metadata": {
    "id": "uxuYjtIPP4WI"
   },
   "outputs": [
    {
     "name": "stdout",
     "output_type": "stream",
     "text": [
      "2\n"
     ]
    },
    {
     "data": {
      "text/html": [
       "<div>\n",
       "<style scoped>\n",
       "    .dataframe tbody tr th:only-of-type {\n",
       "        vertical-align: middle;\n",
       "    }\n",
       "\n",
       "    .dataframe tbody tr th {\n",
       "        vertical-align: top;\n",
       "    }\n",
       "\n",
       "    .dataframe thead th {\n",
       "        text-align: right;\n",
       "    }\n",
       "</style>\n",
       "<table border=\"1\" class=\"dataframe\">\n",
       "  <thead>\n",
       "    <tr style=\"text-align: right;\">\n",
       "      <th></th>\n",
       "      <th>name</th>\n",
       "    </tr>\n",
       "  </thead>\n",
       "  <tbody>\n",
       "    <tr>\n",
       "      <th>0</th>\n",
       "      <td>Mercedes_EQV_300_Long</td>\n",
       "    </tr>\n",
       "  </tbody>\n",
       "</table>\n",
       "</div>"
      ],
      "text/plain": [
       "                    name\n",
       "0  Mercedes_EQV_300_Long"
      ]
     },
     "execution_count": 66,
     "metadata": {},
     "output_type": "execute_result"
    }
   ],
   "source": [
    "#########exporting data without units########## \n",
    "print(len(data_bin))\n",
    "for n in range(0,len(data_bin)):\n",
    "  data_bin[n].columns = ['name']#, 'value','nothing1','nothing2','nothing3','nothing4']\n",
    "  data_bin[n].value = data_bin[n].name.str.extract('(\\d*\\.\\d+|\\d+)', expand=False).astype(float)\n",
    "data_bin[1]\n"
   ]
  },
  {
   "cell_type": "code",
   "execution_count": 68,
   "metadata": {
    "id": "gsVw_pSjdMeP"
   },
   "outputs": [],
   "source": [
    "############exporting into excel####################\n",
    "startrow = 0\n",
    "import os\n",
    "path = r\"C:\\Users\\satis\\mnm project\\ev_database_1.xlsx\"\n",
    "writer = pd.ExcelWriter(path, engine = 'xlsxwriter')\n",
    "for k in range(0,len(data_bin)):\n",
    "  data_bin[k].to_excel(writer, sheet_name =str(k),startrow=startrow,header=False,index=False)\n",
    "#writer.save()"
   ]
  },
  {
   "cell_type": "markdown",
   "metadata": {
    "id": "ZD7pjSXyjo2K"
   },
   "source": [
    "**Consolidating data**"
   ]
  },
  {
   "cell_type": "code",
   "execution_count": 69,
   "metadata": {
    "colab": {
     "base_uri": "https://localhost:8080/"
    },
    "id": "1sjS_C0YoQJP",
    "outputId": "bc266290-b2d7-4736-ce9e-5a589d71b37c"
   },
   "outputs": [
    {
     "name": "stdout",
     "output_type": "stream",
     "text": [
      "[[], []]\n"
     ]
    }
   ],
   "source": [
    "listy = [[] for i in range(0,len(data_bin))]\n",
    "print(listy)"
   ]
  },
  {
   "cell_type": "code",
   "execution_count": 70,
   "metadata": {
    "id": "glv0swjEwTQ2"
   },
   "outputs": [
    {
     "name": "stdout",
     "output_type": "stream",
     "text": [
      "['Acceleration 0 - 100 km/h', 'Top Speed', 'Electric Range', 'Total Power', 'Total Torque', 'Drive', 'Battery Capacity', 'Battery Useable', 'Charge Port', 'Port Location', 'Charge Power', 'Charge Time ', 'Charge Speed', 'Fastcharge Port', 'FC Port Location', 'Fastcharge Power', 'Fastcharge Time ', 'Fastcharge Speed', 'Length', 'Width', 'Width with mirrors', 'Height', 'Wheelbase', 'Weight Unladen', 'Gross Vehicle Weight', 'Max. Payload', 'Cargo Volume', 'Cargo Volume Max', 'Cargo Volume Frunk', 'Roof Load', 'Tow Hitch Possible', 'Towing Weight Unbraked', 'Towing Weight Braked', 'Vertical Load Max', 'Seats', 'Isofix', 'Turning Circle', 'Platform', 'Car Body', 'Segment', 'Roof Rails', 'EV Dedicated Platform']\n"
     ]
    }
   ],
   "source": [
    "ev_vardf =pd.read_csv(r\"C:\\Users\\satis\\mnm project\\1_Variables_EV_BENCHMARK.csv\",header=None)\n",
    "vari=ev_vardf[0].tolist()\n",
    "print(vari)"
   ]
  },
  {
   "cell_type": "code",
   "execution_count": 75,
   "metadata": {},
   "outputs": [
    {
     "data": {
      "text/html": [
       "<div>\n",
       "<style scoped>\n",
       "    .dataframe tbody tr th:only-of-type {\n",
       "        vertical-align: middle;\n",
       "    }\n",
       "\n",
       "    .dataframe tbody tr th {\n",
       "        vertical-align: top;\n",
       "    }\n",
       "\n",
       "    .dataframe thead th {\n",
       "        text-align: right;\n",
       "    }\n",
       "</style>\n",
       "<table border=\"1\" class=\"dataframe\">\n",
       "  <thead>\n",
       "    <tr style=\"text-align: right;\">\n",
       "      <th></th>\n",
       "      <th>name</th>\n",
       "    </tr>\n",
       "  </thead>\n",
       "  <tbody>\n",
       "  </tbody>\n",
       "</table>\n",
       "</div>"
      ],
      "text/plain": [
       "Empty DataFrame\n",
       "Columns: [name]\n",
       "Index: []"
      ]
     },
     "execution_count": 75,
     "metadata": {},
     "output_type": "execute_result"
    }
   ],
   "source": [
    "data_bin[n].loc[data_bin[n].name.str.contains(m)==True]"
   ]
  },
  {
   "cell_type": "code",
   "execution_count": 71,
   "metadata": {
    "id": "yqFIOT1QnP7V"
   },
   "outputs": [],
   "source": [
    "# vari=[\"Range\",\"Top\"]\n",
    "for m in vari:\n",
    "  for n in range(0,len(data_bin)):\n",
    "    try:\n",
    "      temp=data_bin[n].loc[data_bin[n].name.str.contains(m)==True]\n",
    "      if(len(temp.value)>1):\n",
    "        listy[n].append(\"duplicate\")\n",
    "      else:      \n",
    "        listy[n].append(temp.value.iloc[0])\n",
    "    except:\n",
    "      listy[n].append(\"NA\")"
   ]
  },
  {
   "cell_type": "code",
   "execution_count": 72,
   "metadata": {
    "colab": {
     "base_uri": "https://localhost:8080/"
    },
    "id": "Zc4m1XwypwLV",
    "outputId": "23c25f8c-d440-435d-e7f2-02017b2a0e24"
   },
   "outputs": [
    {
     "name": "stdout",
     "output_type": "stream",
     "text": [
      "[['NA', 'NA', 'NA', 'NA', 'NA', 'NA', 'NA', 'NA', 'NA', 'NA', 'NA', 'NA', 'NA', 'NA', 'NA', 'NA', 'NA', 'NA', 'NA', 'NA', 'NA', 'NA', 'NA', 'NA', 'NA', 'NA', 'NA', 'NA', 'NA', 'NA', 'NA', 'NA', 'NA', 'NA', 'NA', 'NA', 'NA', 'NA', 'NA', 'NA', 'NA', 'NA'], ['NA', 'NA', 'NA', 'NA', 'NA', 'NA', 'NA', 'NA', 'NA', 'NA', 'NA', 'NA', 'NA', 'NA', 'NA', 'NA', 'NA', 'NA', 'NA', 'NA', 'NA', 'NA', 'NA', 'NA', 'NA', 'NA', 'NA', 'NA', 'NA', 'NA', 'NA', 'NA', 'NA', 'NA', 'NA', 'NA', 'NA', 'NA', 'NA', 'NA', 'NA', 'NA']]\n"
     ]
    }
   ],
   "source": [
    "print(listy)"
   ]
  },
  {
   "cell_type": "code",
   "execution_count": 43,
   "metadata": {
    "colab": {
     "base_uri": "https://localhost:8080/"
    },
    "id": "ZWC0zRovwohh",
    "outputId": "77ffc41f-6efd-4de0-eb98-8f5759d54018"
   },
   "outputs": [
    {
     "name": "stdout",
     "output_type": "stream",
     "text": [
      "['Acceleration 0 - 100 km/h', 'Top Speed', 'Electric Range', 'Total Power', 'Total Torque', 'Drive', 'Battery Capacity', 'Battery Useable', 'Charge Port', 'Port Location', 'Charge Power', 'Charge Time ', 'Charge Speed', 'Fastcharge Port', 'FC Port Location', 'Fastcharge Power', 'Fastcharge Time ', 'Fastcharge Speed', 'Length', 'Width', 'Width with mirrors', 'Height', 'Wheelbase', 'Weight Unladen', 'Gross Vehicle Weight', 'Max. Payload', 'Cargo Volume', 'Cargo Volume Max', 'Cargo Volume Frunk', 'Roof Load', 'Tow Hitch Possible', 'Towing Weight Unbraked', 'Towing Weight Braked', 'Vertical Load Max', 'Seats', 'Isofix', 'Turning Circle', 'Platform', 'Car Body', 'Segment', 'Roof Rails', 'EV Dedicated Platform']\n"
     ]
    }
   ],
   "source": [
    "print(vari)"
   ]
  },
  {
   "cell_type": "code",
   "execution_count": 44,
   "metadata": {
    "id": "2kmggrs9x4id"
   },
   "outputs": [],
   "source": [
    "df = pd.DataFrame(listy,columns=vari)\n",
    "df=df.T\n",
    "df.columns=out_bin"
   ]
  },
  {
   "cell_type": "code",
   "execution_count": 45,
   "metadata": {
    "colab": {
     "base_uri": "https://localhost:8080/"
    },
    "id": "5MHH9rd_y6wA",
    "outputId": "ed65e760-ce7e-4190-a116-45854738da6d"
   },
   "outputs": [
    {
     "name": "stdout",
     "output_type": "stream",
     "text": [
      "                          Mercedes_EQV_300_Long\n",
      "Acceleration 0 - 100 km/h                    NA\n",
      "Top Speed                                    NA\n",
      "Electric Range                               NA\n",
      "Total Power                                  NA\n",
      "Total Torque                                 NA\n",
      "Drive                                        NA\n",
      "Battery Capacity                             NA\n",
      "Battery Useable                              NA\n",
      "Charge Port                                  NA\n",
      "Port Location                                NA\n",
      "Charge Power                                 NA\n",
      "Charge Time                                  NA\n",
      "Charge Speed                                 NA\n",
      "Fastcharge Port                              NA\n",
      "FC Port Location                             NA\n",
      "Fastcharge Power                             NA\n",
      "Fastcharge Time                              NA\n",
      "Fastcharge Speed                             NA\n",
      "Length                                       NA\n",
      "Width                                        NA\n",
      "Width with mirrors                           NA\n",
      "Height                                       NA\n",
      "Wheelbase                                    NA\n",
      "Weight Unladen                               NA\n",
      "Gross Vehicle Weight                         NA\n",
      "Max. Payload                                 NA\n",
      "Cargo Volume                                 NA\n",
      "Cargo Volume Max                             NA\n",
      "Cargo Volume Frunk                           NA\n",
      "Roof Load                                    NA\n",
      "Tow Hitch Possible                           NA\n",
      "Towing Weight Unbraked                       NA\n",
      "Towing Weight Braked                         NA\n",
      "Vertical Load Max                            NA\n",
      "Seats                                        NA\n",
      "Isofix                                       NA\n",
      "Turning Circle                               NA\n",
      "Platform                                     NA\n",
      "Car Body                                     NA\n",
      "Segment                                      NA\n",
      "Roof Rails                                   NA\n",
      "EV Dedicated Platform                        NA\n"
     ]
    }
   ],
   "source": [
    "print(df)"
   ]
  },
  {
   "cell_type": "code",
   "execution_count": null,
   "metadata": {
    "colab": {
     "base_uri": "https://localhost:8080/"
    },
    "id": "cL4Lek7kz0MJ",
    "outputId": "878a0577-26d4-46a5-e9d6-c1e85c45ce85"
   },
   "outputs": [
    {
     "name": "stdout",
     "output_type": "stream",
     "text": [
      "['Acceleration 0 - 100 km/h', 'Top Speed', 'Electric Range', 'Total Power', 'Total Torque', 'Drive', 'Battery Capacity', 'Battery Useable', 'Charge Port', 'Port Location', 'Charge Power', 'Charge Time ', 'Charge Speed', 'Fastcharge Port', 'FC Port Location', 'Fastcharge Power', 'Fastcharge Time ', 'Fastcharge Speed', 'Length', 'Width', 'Width with mirrors', 'Height', 'Wheelbase', 'Weight Unladen', 'Gross Vehicle Weight', 'Max. Payload', 'Cargo Volume', 'Cargo Volume Max', 'Cargo Volume Frunk', 'Roof Load', 'Tow Hitch Possible', 'Towing Weight Unbraked', 'Towing Weight Braked', 'Vertical Load Max', 'Seats', 'Isofix', 'Turning Circle', 'Platform', 'Car Body', 'Segment', 'Roof Rails', 'EV Dedicated Platform']\n"
     ]
    }
   ],
   "source": [
    "print(vari)"
   ]
  },
  {
   "cell_type": "code",
   "execution_count": null,
   "metadata": {
    "id": "MYnrPg2C1jAd"
   },
   "outputs": [],
   "source": [
    "df.to_excel(\"final.xlsx\")"
   ]
  }
 ],
 "metadata": {
  "colab": {
   "provenance": []
  },
  "kernelspec": {
   "display_name": "Python 3 (ipykernel)",
   "language": "python",
   "name": "python3"
  },
  "language_info": {
   "codemirror_mode": {
    "name": "ipython",
    "version": 3
   },
   "file_extension": ".py",
   "mimetype": "text/x-python",
   "name": "python",
   "nbconvert_exporter": "python",
   "pygments_lexer": "ipython3",
   "version": "3.11.5"
  }
 },
 "nbformat": 4,
 "nbformat_minor": 1
}
